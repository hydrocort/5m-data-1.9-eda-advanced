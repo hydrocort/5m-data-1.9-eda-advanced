{
 "cells": [
  {
   "cell_type": "code",
   "execution_count": 2,
   "id": "1ce93aed",
   "metadata": {},
   "outputs": [],
   "source": [
    "import pandas as pd\n",
    "import numpy as np"
   ]
  },
  {
   "cell_type": "markdown",
   "id": "ec4c19e0",
   "metadata": {},
   "source": [
    "### Question 1\n",
    "\n",
    "Question: Calculate the correlation between 'MSFT' and 'IBM' returns from a DataFrame of stock returns.\n",
    "\n",
    "```python\n",
    "import pandas as pd\n",
    "\n",
    "# Assuming 'returns' is a DataFrame containing stock returns\n",
    "returns = pd.DataFrame({\n",
    "    'MSFT': [0.05, 0.07, -0.01],\n",
    "    'IBM': [0.04, 0.02, 0.03]\n",
    "})\n",
    "```"
   ]
  },
  {
   "cell_type": "code",
   "execution_count": 3,
   "id": "4493d3e4",
   "metadata": {},
   "outputs": [
    {
     "data": {
      "text/plain": [
       "-0.2401922307076306"
      ]
     },
     "execution_count": 3,
     "metadata": {},
     "output_type": "execute_result"
    }
   ],
   "source": [
    "returns = pd.DataFrame({\n",
    "    'MSFT': [0.05, 0.07, -0.01],\n",
    "    'IBM': [0.04, 0.02, 0.03]\n",
    "})\n",
    "\n",
    "returns[\"MSFT\"].corr(returns[\"IBM\"])"
   ]
  },
  {
   "cell_type": "markdown",
   "id": "686846f4",
   "metadata": {},
   "source": [
    "### Question 2\n",
    "\n",
    "Question: Convert the columns `B` and `C` from wide to long format.\n",
    "\n",
    "```python\n",
    "import pandas as pd\n",
    "\n",
    "df = pd.DataFrame({\n",
    "'A': {0: 'a', 1: 'b', 2: 'c'},\n",
    "'B': {0: 1, 1: 3, 2: 5},\n",
    "'C': {0: 2, 1: 4, 2: 6}\n",
    "})\n",
    "```"
   ]
  },
  {
   "cell_type": "code",
   "execution_count": 4,
   "id": "59bfa490",
   "metadata": {},
   "outputs": [
    {
     "name": "stdout",
     "output_type": "stream",
     "text": [
      "   A  B  C\n",
      "0  a  1  2\n",
      "1  b  3  4\n",
      "2  c  5  6\n",
      "\n",
      "\n",
      "   A variable  value\n",
      "0  a        B      1\n",
      "1  b        B      3\n",
      "2  c        B      5\n",
      "3  a        C      2\n",
      "4  b        C      4\n",
      "5  c        C      6\n"
     ]
    }
   ],
   "source": [
    "df = pd.DataFrame({\n",
    "'A': {0: 'a', 1: 'b', 2: 'c'},\n",
    "'B': {0: 1, 1: 3, 2: 5},\n",
    "'C': {0: 2, 1: 4, 2: 6}\n",
    "})\n",
    "\n",
    "print(df)\n",
    "\n",
    "long_df = df.melt(id_vars=[\"A\"], value_vars=[\"B\", \"C\"])\n",
    "\n",
    "print(\"\\n\")\n",
    "print(long_df)"
   ]
  },
  {
   "cell_type": "markdown",
   "id": "dfb7c7f8",
   "metadata": {},
   "source": [
    "### Question 3\n",
    "\n",
    "Question: Slice the Series to return data from 5th to 15th January.\n",
    "\n",
    "```python\n",
    "import pandas as pd\n",
    "import numpy as np\n",
    "\n",
    "dates = pd.date_range(\"2023-01-01\", \"2023-01-31\")\n",
    "data = pd.Series(np.random.rand(len(dates)), index=dates)\n",
    "```"
   ]
  },
  {
   "cell_type": "code",
   "execution_count": 9,
   "id": "0ec1f23c",
   "metadata": {},
   "outputs": [
    {
     "data": {
      "text/plain": [
       "2023-01-05    0.222698\n",
       "2023-01-06    0.364291\n",
       "2023-01-07    0.848111\n",
       "2023-01-08    0.874258\n",
       "2023-01-09    0.791904\n",
       "2023-01-10    0.370872\n",
       "2023-01-11    0.426274\n",
       "2023-01-12    0.832932\n",
       "2023-01-13    0.256489\n",
       "2023-01-14    0.602636\n",
       "2023-01-15    0.421364\n",
       "Freq: D, dtype: float64"
      ]
     },
     "execution_count": 9,
     "metadata": {},
     "output_type": "execute_result"
    }
   ],
   "source": [
    "dates = pd.date_range(\"2023-01-01\", \"2023-01-31\")\n",
    "data = pd.Series(np.random.rand(len(dates)), index=dates)\n",
    "\n",
    "data[\"2023-01-05\":\"2023-01-15\"]\n"
   ]
  }
 ],
 "metadata": {
  "kernelspec": {
   "display_name": "pds",
   "language": "python",
   "name": "python3"
  },
  "language_info": {
   "codemirror_mode": {
    "name": "ipython",
    "version": 3
   },
   "file_extension": ".py",
   "mimetype": "text/x-python",
   "name": "python",
   "nbconvert_exporter": "python",
   "pygments_lexer": "ipython3",
   "version": "3.10.18"
  }
 },
 "nbformat": 4,
 "nbformat_minor": 5
}
